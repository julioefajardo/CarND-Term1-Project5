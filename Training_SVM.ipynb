{
 "cells": [
  {
   "cell_type": "code",
   "execution_count": 1,
   "metadata": {
    "collapsed": false
   },
   "outputs": [],
   "source": [
    "import numpy as np\n",
    "import cv2\n",
    "import matplotlib.image as mpimg\n",
    "import matplotlib.pyplot as plt\n",
    "import pickle\n",
    "import random\n",
    "import glob\n",
    "import time\n",
    "\n",
    "from sklearn.svm import LinearSVC\n",
    "from sklearn.preprocessing import StandardScaler\n",
    "from skimage.feature import hog\n",
    "from sklearn.model_selection import train_test_split\n",
    "from sklearn.utils import shuffle\n",
    "\n",
    "# Visualizations will be shown in the notebook.\n",
    "%matplotlib inline\n",
    "\n",
    "color_space = 'YCrCb' # Can be RGB, HSV, LUV, HLS, YUV, YCrCb, GRAY\n",
    "orient = 8  # HOG orientations\n",
    "pix_per_cell = 8 # HOG pixels per cell\n",
    "cell_per_block = 1 # HOG cells per block\n",
    "hog_channel = 'ALL' # Can be 0, 1, 2, or \"ALL\"\n",
    "spatial_size = (16, 16) # Spatial binning dimensions\n",
    "hist_bins = 16 # Number of histogram bins\n",
    "spatial_feat = False # Spatial features on or off\n",
    "hist_feat = False # Histogram features on or off\n",
    "hog_feat = True # HOG features on or off\n",
    "y_start_stop = [400, 720] # Min and max in y to search in slide_window()\n",
    "x_start_stop = [200, 1180] # ditto for x\n",
    "pct_overlap = 0.7 # sliding window overlap percentage\n",
    "heatmap_thresh = 33\n",
    "num_frames = 30 # number of video frames over which to accumulate heatmap\n",
    "min_ar, max_ar = 0.7, 3.0 # bounding box acceptable aspect ratio range\n",
    "small_bbox_area, close_y_thresh = 80*80, 500\n",
    "min_bbox_area = 40*40"
   ]
  },
  {
   "cell_type": "code",
   "execution_count": 2,
   "metadata": {
    "collapsed": false
   },
   "outputs": [
    {
     "name": "stdout",
     "output_type": "stream",
     "text": [
      "Car Images:  8792\n",
      "Non-car Images:  8968\n",
      "vehicles/GTI_Right/image0765.png\n",
      "non-vehicles/GTI/image2678.png\n"
     ]
    }
   ],
   "source": [
    "# Read in car and non-car images\n",
    "car_images = glob.glob('vehicles/**/*.png', recursive=True)\n",
    "notcar_images = glob.glob('non-vehicles/**/*.png', recursive=True)\n",
    "\n",
    "print('Car Images: ',len(car_images))\n",
    "print('Non-car Images: ',len(notcar_images))\n",
    "print(car_images[0])\n",
    "print(notcar_images[0])"
   ]
  },
  {
   "cell_type": "code",
   "execution_count": 3,
   "metadata": {
    "collapsed": false
   },
   "outputs": [],
   "source": [
    "def get_hog_features(img, orient, pix_per_cell, cell_per_block, vis=False, feature_vec=True):\n",
    "    \"\"\"\n",
    "    Return HOG features and visualization (optionally)\n",
    "    \"\"\"\n",
    "    if vis == True:\n",
    "        features, hog_image = hog(img, orientations=orient, pixels_per_cell=(pix_per_cell, pix_per_cell),\n",
    "            cells_per_block=(cell_per_block, cell_per_block), transform_sqrt=False,\n",
    "            visualise=True, feature_vector=False)\n",
    "        return features, hog_image\n",
    "    else:\n",
    "        features = hog(img, orientations=orient, pixels_per_cell=(pix_per_cell, pix_per_cell),\n",
    "            cells_per_block=(cell_per_block, cell_per_block), transform_sqrt=False,\n",
    "            visualise=False, feature_vector=feature_vec)\n",
    "        return features\n",
    "\n",
    "# Define a function to extract features from a list of images\n",
    "# Have this function call bin_spatial() and color_hist()\n",
    "def extract_features(imgs, cspace='RGB', orient=8, \n",
    "                        pix_per_cell=8, cell_per_block=4, hog_channel=0):\n",
    "    # Create a list to append feature vectors to\n",
    "    features = []\n",
    "    # Iterate through the list of images\n",
    "    for file in imgs:\n",
    "        # Read in each one by one\n",
    "        image = mpimg.imread(file)\n",
    "        # apply color conversion if other than 'RGB'\n",
    "        if cspace != 'RGB':\n",
    "            if cspace == 'HSV':\n",
    "                feature_image = cv2.cvtColor(image, cv2.COLOR_RGB2HSV)\n",
    "            elif cspace == 'LUV':\n",
    "                feature_image = cv2.cvtColor(image, cv2.COLOR_RGB2LUV)\n",
    "            elif cspace == 'HLS':\n",
    "                feature_image = cv2.cvtColor(image, cv2.COLOR_RGB2HLS)\n",
    "            elif cspace == 'YUV':\n",
    "                feature_image = cv2.cvtColor(image, cv2.COLOR_RGB2YUV)\n",
    "            elif cspace == 'YCrCb':\n",
    "                feature_image = cv2.cvtColor(image, cv2.COLOR_RGB2YCrCb)\n",
    "        else: feature_image = np.copy(image)      \n",
    "\n",
    "        # Call get_hog_features() with vis=False, feature_vec=True\n",
    "        if hog_channel == 'ALL':\n",
    "            hog_features = []\n",
    "            for channel in range(feature_image.shape[2]):\n",
    "                hog_features.append(get_hog_features(feature_image[:,:,channel], \n",
    "                                    orient, pix_per_cell, cell_per_block, \n",
    "                                    vis=False, feature_vec=True))\n",
    "            hog_features = np.ravel(hog_features)        \n",
    "        else:\n",
    "            hog_features = get_hog_features(feature_image[:,:,hog_channel], orient, \n",
    "                        pix_per_cell, cell_per_block, vis=False, feature_vec=True)\n",
    "        # Append the new feature vector to the features list\n",
    "        features.append(hog_features)\n",
    "        \n",
    "    # Return list of feature vectors\n",
    "    return features"
   ]
  },
  {
   "cell_type": "code",
   "execution_count": 4,
   "metadata": {
    "collapsed": false
   },
   "outputs": [
    {
     "name": "stdout",
     "output_type": "stream",
     "text": [
      "Image Shape:  (64, 64, 3)\n"
     ]
    },
    {
     "data": {
      "text/plain": [
       "<matplotlib.text.Text at 0x7fa19c392a58>"
      ]
     },
     "execution_count": 4,
     "metadata": {},
     "output_type": "execute_result"
    },
    {
     "data": {
      "image/png": "[encoded data removed]",
      "text/plain": [
       "<matplotlib.figure.Figure at 0x7fa1e05db940>"
      ]
     },
     "metadata": {},
     "output_type": "display_data"
    }
   ],
   "source": [
    "image = mpimg.imread(car_images[0])\n",
    "gray = cv2.cvtColor(image, cv2.COLOR_RGB2GRAY)\n",
    "\n",
    "image2 = mpimg.imread(notcar_images[0])\n",
    "gray2 = cv2.cvtColor(image2, cv2.COLOR_RGB2GRAY)\n",
    "\n",
    "feat, hog_image = get_hog_features(gray, orient=8, pix_per_cell=4, cell_per_block=1, vis=True, feature_vec=False)\n",
    "feat2, hog_image2 = get_hog_features(gray2, orient=8, pix_per_cell=4, cell_per_block=1, vis=True, feature_vec=False)\n",
    "\n",
    "print('Image Shape: ',image.shape)\n",
    "\n",
    "plt.rcParams[\"figure.figsize\"] = [15, 10]\n",
    "plt.subplot(141)\n",
    "plt.imshow(image,'gray')\n",
    "plt.title('Car Image')\n",
    "plt.subplot(142)\n",
    "plt.imshow(hog_image,'gray')\n",
    "plt.title('Car Image (HOG)')\n",
    "plt.subplot(143)\n",
    "plt.imshow(image2,'gray')\n",
    "plt.title('Non-car Image')\n",
    "plt.subplot(144)\n",
    "plt.imshow(hog_image2,'gray')\n",
    "plt.title('Non-car Image (HOG)')"
   ]
  },
  {
   "cell_type": "code",
   "execution_count": 5,
   "metadata": {
    "collapsed": false
   },
   "outputs": [
    {
     "name": "stdout",
     "output_type": "stream",
     "text": [
      "Data:        (17760, 1536)\n",
      "Labels:      (17760,)\n",
      "Train:       (14208, 1536)\n",
      "Validation:  (3552, 1536)\n"
     ]
    }
   ],
   "source": [
    "car_features = extract_features(car_images, cspace=color_space, orient=orient, \n",
    "                        pix_per_cell=pix_per_cell, cell_per_block=cell_per_block, \n",
    "                        hog_channel=hog_channel)\n",
    "notcar_features = extract_features(notcar_images, cspace=color_space, orient=orient, \n",
    "                        pix_per_cell=pix_per_cell, cell_per_block=cell_per_block, \n",
    "                        hog_channel=hog_channel)\n",
    "\n",
    "# Data\n",
    "X_raw = np.vstack((car_features, notcar_features)).astype(np.float64) \n",
    "# Fit a per-column scaler\n",
    "X_scaler = StandardScaler().fit(X_raw)\n",
    "# Apply the scaler to X\n",
    "X_data = X_scaler.transform(X_raw)\n",
    "# Labels\n",
    "y_data = np.hstack((np.ones(len(car_features)), np.zeros(len(notcar_features))))\n",
    "\n",
    "#Shuffle and cross validation split (80% - Train, 20% - Split)\n",
    "X_data, y_data = shuffle(X_data, y_data)\n",
    "X_train, X_test, y_train, y_test = train_test_split(X_data, y_data, test_size=0.2)\n",
    "\n",
    "print('Data:       ',X_data.shape)\n",
    "print('Labels:     ',y_data.shape)\n",
    "print('Train:      ',X_train.shape)\n",
    "print('Validation: ',X_test.shape)"
   ]
  },
  {
   "cell_type": "code",
   "execution_count": 6,
   "metadata": {
    "collapsed": false
   },
   "outputs": [
    {
     "name": "stdout",
     "output_type": "stream",
     "text": [
      "Training time:  6.25  seconds\n"
     ]
    }
   ],
   "source": [
    "# Linear SVM Classification Training\n",
    "svc = LinearSVC()\n",
    "\n",
    "t0=time.time()\n",
    "svc.fit(X_train, y_train)\n",
    "t1 = time.time()\n",
    "\n",
    "print('Training time: ', round(t1-t0, 2), ' seconds')"
   ]
  },
  {
   "cell_type": "code",
   "execution_count": 7,
   "metadata": {
    "collapsed": false
   },
   "outputs": [
    {
     "name": "stdout",
     "output_type": "stream",
     "text": [
      "Accuracy:  0.9778\n",
      "Predictions:\n",
      "[ 1.  1.  0.  0.  1.  0.  1.  0.  1.  0.  0.  1.  0.  1.  1.  0.  0.  1.]\n",
      "Labels:\n",
      "[ 1.  1.  0.  0.  1.  0.  1.  0.  1.  0.  0.  1.  0.  1.  1.  0.  0.  1.]\n"
     ]
    }
   ],
   "source": [
    "# Linear SVM Classification Accuracy\n",
    "X_test, y_test = shuffle(X_test, y_test)\n",
    "\n",
    "print('Accuracy: ', round(svc.score(X_test, y_test), 4))\n",
    "print('Predictions:')\n",
    "print(svc.predict(X_test[0:18]))\n",
    "print('Labels:')\n",
    "print(y_test[0:18])"
   ]
  },
  {
   "cell_type": "code",
   "execution_count": 8,
   "metadata": {
    "collapsed": false
   },
   "outputs": [
    {
     "name": "stdout",
     "output_type": "stream",
     "text": [
      "LinearSVC(C=1.0, class_weight=None, dual=True, fit_intercept=True,\n",
      "     intercept_scaling=1, loss='squared_hinge', max_iter=1000,\n",
      "     multi_class='ovr', penalty='l2', random_state=None, tol=0.0001,\n",
      "     verbose=0)\n",
      "Done.\n"
     ]
    }
   ],
   "source": [
    "#Save the model\n",
    "pickle.dump(svc, open(\"svc.p\", \"wb\"))\n",
    "pickle.dump(X_scaler, open(\"scaler.p\", \"wb\"))\n",
    "the_svc = pickle.load(open(\"svc.p\", \"rb\"))\n",
    "print(the_svc)\n",
    "print('Done.')"
   ]
  },
  {
   "cell_type": "code",
   "execution_count": null,
   "metadata": {
    "collapsed": true
   },
   "outputs": [],
   "source": []
  },
  {
   "cell_type": "code",
   "execution_count": null,
   "metadata": {
    "collapsed": true
   },
   "outputs": [],
   "source": []
  }
 ],
 "metadata": {
  "anaconda-cloud": {},
  "kernelspec": {
   "display_name": "Python 3",
   "language": "python",
   "name": "python3"
  },
  "language_info": {
   "codemirror_mode": {
    "name": "ipython",
    "version": 3
   },
   "file_extension": ".py",
   "mimetype": "text/x-python",
   "name": "python",
   "nbconvert_exporter": "python",
   "pygments_lexer": "ipython3",
   "version": "3.5.2"
  },
  "widgets": {
   "state": {},
   "version": "1.1.2"
  }
 },
 "nbformat": 4,
 "nbformat_minor": 2
}
